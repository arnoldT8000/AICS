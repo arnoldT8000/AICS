{
  "nbformat": 4,
  "nbformat_minor": 0,
  "metadata": {
    "colab": {
      "provenance": [],
      "authorship_tag": "ABX9TyOjty4bcNQdQvtNRJJFHkn/",
      "include_colab_link": true
    },
    "kernelspec": {
      "name": "python3",
      "display_name": "Python 3"
    },
    "language_info": {
      "name": "python"
    }
  },
  "cells": [
    {
      "cell_type": "markdown",
      "metadata": {
        "id": "view-in-github",
        "colab_type": "text"
      },
      "source": [
        "<a href=\"https://colab.research.google.com/github/arnoldT8000/AICS/blob/main/AICS_1.ipynb\" target=\"_parent\"><img src=\"https://colab.research.google.com/assets/colab-badge.svg\" alt=\"Open In Colab\"/></a>"
      ]
    },
    {
      "cell_type": "code",
      "execution_count": null,
      "metadata": {
        "colab": {
          "base_uri": "https://localhost:8080/"
        },
        "id": "qiB0fQsNhDBD",
        "outputId": "c5cf34e1-41cc-41d7-9abf-4ce440b1331c"
      },
      "outputs": [
        {
          "output_type": "stream",
          "name": "stdout",
          "text": [
            "['apple', 'banana', 'cherry', 'orange']\n"
          ]
        }
      ],
      "source": [
        "thislist = [\"apple\", \"banana\", \"cherry\", \"orange\", \"kiwi\", \"melon\", \"mango\"]\n",
        "print(thislist[:4])"
      ]
    },
    {
      "cell_type": "code",
      "source": [
        "list1 = [\"Tiger\", \"Elephant\", \"Cheetah\", \"Lion\", \"Jaguar\"]\n",
        "list1.reverse()\n",
        "print(list1)"
      ],
      "metadata": {
        "colab": {
          "base_uri": "https://localhost:8080/"
        },
        "id": "B86ZZEX3ljZS",
        "outputId": "ea33160b-1e54-4476-ccb8-5889edd317fd"
      },
      "execution_count": null,
      "outputs": [
        {
          "output_type": "stream",
          "name": "stdout",
          "text": [
            "['Jaguar', 'Lion', 'Cheetah', 'Elephant', 'Tiger']\n"
          ]
        }
      ]
    },
    {
      "cell_type": "code",
      "source": [
        "if \"Elephant\" in list1:\n",
        "  print(\"Odd one out as it's Herbivore\")\n",
        "  print(\"REMOVING ODD ONE\")\n",
        "  list1.remove(\"Elephant\")\n",
        "  print(list1)"
      ],
      "metadata": {
        "colab": {
          "base_uri": "https://localhost:8080/"
        },
        "id": "vtSid8vFmBHQ",
        "outputId": "96014dfa-ee82-4ef8-bf70-7d7031e1bd5c"
      },
      "execution_count": null,
      "outputs": [
        {
          "output_type": "stream",
          "name": "stdout",
          "text": [
            "Odd one out as it's Herbivore\n",
            "REMOVING ODD ONE\n",
            "['Tiger', 'Cheetah', 'Lion', 'Jaguar']\n"
          ]
        }
      ]
    },
    {
      "cell_type": "markdown",
      "source": [
        "Dictonaries Operations"
      ],
      "metadata": {
        "id": "XjNCMc0n7cGt"
      }
    },
    {
      "cell_type": "code",
      "source": [
        "thisdict = {\n",
        "  49: \"Prashant\",\n",
        "  64: \"Vedant K\",\n",
        "  45: \"latergater\"\n",
        "}\n",
        "print(thisdict)"
      ],
      "metadata": {
        "id": "9i-sVow37kKT",
        "colab": {
          "base_uri": "https://localhost:8080/"
        },
        "outputId": "b81839f7-cab2-45a3-a6f8-7c728013d087"
      },
      "execution_count": null,
      "outputs": [
        {
          "output_type": "stream",
          "name": "stdout",
          "text": [
            "{49: 'Prashant', 64: 'Vedant K', 45: 'latergater'}\n"
          ]
        }
      ]
    },
    {
      "cell_type": "code",
      "source": [
        "thisdict = {\n",
        "  49: \"Prashant\",\n",
        "  64: \"Vedant K\",\n",
        "  45: \"latergater\"\n",
        "}\n",
        "\n",
        "x = thisdict.keys()\n",
        "\n",
        "print(x) #before the change\n",
        "\n",
        "thisdict[42] = \"Chaman\"\n",
        "\n",
        "print(x) #after the change"
      ],
      "metadata": {
        "colab": {
          "base_uri": "https://localhost:8080/"
        },
        "id": "g5T9XyzfaVHW",
        "outputId": "28d0a11d-0ff0-4969-a702-9cf349eb5f6f"
      },
      "execution_count": null,
      "outputs": [
        {
          "output_type": "stream",
          "name": "stdout",
          "text": [
            "dict_keys([49, 64, 45])\n",
            "dict_keys([49, 64, 45, 42])\n"
          ]
        }
      ]
    },
    {
      "cell_type": "code",
      "source": [
        "for x in thisdict:\n",
        "  print(thisdict[x])"
      ],
      "metadata": {
        "colab": {
          "base_uri": "https://localhost:8080/"
        },
        "id": "3nB4HoAIay9B",
        "outputId": "edef6e61-9e25-4ee5-adfd-be1d6d6fe8a7"
      },
      "execution_count": null,
      "outputs": [
        {
          "output_type": "stream",
          "name": "stdout",
          "text": [
            "Prashant\n",
            "Vedant K\n",
            "latergater\n",
            "Chaman\n"
          ]
        }
      ]
    }
  ]
}